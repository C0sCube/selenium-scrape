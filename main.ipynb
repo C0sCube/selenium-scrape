{
 "cells": [
  {
   "cell_type": "code",
   "execution_count": 1,
   "id": "7a42b623",
   "metadata": {},
   "outputs": [],
   "source": [
    "import tkinter as tk"
   ]
  },
  {
   "cell_type": "code",
   "execution_count": 38,
   "id": "ecfe7e69",
   "metadata": {},
   "outputs": [],
   "source": [
    "import tkinter as tk\n",
    "\n",
    "root = tk.Tk()\n",
    "root.geometry(\"400x300\")\n",
    "root.configure(bg=\"gray\")\n",
    "\n",
    "labels = []\n",
    "\n",
    "# ===== Scrollable Frame Setup =====\n",
    "main_frame = tk.Frame(root, bg=\"gray\")\n",
    "main_frame.pack(fill='both', expand=True)\n",
    "\n",
    "canvas = tk.Canvas(main_frame, bg=\"gray\", highlightthickness=0)\n",
    "canvas.pack(side='left', fill='both', expand=True)\n",
    "\n",
    "scrollbar = tk.Scrollbar(main_frame, orient='vertical', command=canvas.yview)\n",
    "scrollbar.pack(side='right', fill='y')\n",
    "\n",
    "canvas.configure(yscrollcommand=scrollbar.set)\n",
    "\n",
    "# A frame *inside* the canvas to hold actual widgets\n",
    "content_frame = tk.Frame(canvas, bg=\"gray\")\n",
    "canvas.create_window((0, 0), window=content_frame, anchor='nw')\n",
    "\n",
    "# Auto-resize scroll region\n",
    "def on_configure(event):\n",
    "    canvas.configure(scrollregion=canvas.bbox('all'))\n",
    "\n",
    "content_frame.bind('<Configure>', on_configure)\n",
    "\n",
    "# ===== Label and Button Logic =====\n",
    "def msg():\n",
    "    label = tk.Label(content_frame, text=\"Hello\", bg=\"pink\")\n",
    "    label.pack(padx=10, pady=5, anchor='nw')\n",
    "    labels.append(label)\n",
    "\n",
    "def delete_label():\n",
    "    if labels:\n",
    "        last_label = labels.pop()\n",
    "        last_label.destroy()\n",
    "\n",
    "# Buttons outside the scrollable area\n",
    "control_frame = tk.Frame(root, bg=\"gray\")\n",
    "control_frame.pack(fill='x')\n",
    "\n",
    "tk.Button(control_frame, text=\"CLICK ME\", command=msg, bg=\"pink\").pack(side='left', padx=10, pady=5)\n",
    "tk.Button(control_frame, text=\"DELETE\", command=delete_label, bg=\"pink\").pack(side='left', padx=10, pady=5)\n",
    "\n",
    "root.mainloop()\n"
   ]
  }
 ],
 "metadata": {
  "kernelspec": {
   "display_name": "Python 3",
   "language": "python",
   "name": "python3"
  },
  "language_info": {
   "codemirror_mode": {
    "name": "ipython",
    "version": 3
   },
   "file_extension": ".py",
   "mimetype": "text/x-python",
   "name": "python",
   "nbconvert_exporter": "python",
   "pygments_lexer": "ipython3",
   "version": "3.13.1"
  }
 },
 "nbformat": 4,
 "nbformat_minor": 5
}
