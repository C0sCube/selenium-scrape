{
 "cells": [
  {
   "cell_type": "code",
   "execution_count": 1,
   "id": "8f1723fd",
   "metadata": {},
   "outputs": [],
   "source": [
    "import pandas as pd\n",
    "from app.utils import Helper"
   ]
  },
  {
   "cell_type": "code",
   "execution_count": null,
   "id": "7400c59a",
   "metadata": {},
   "outputs": [],
   "source": [
    "\n",
    "df1 = pd.read_excel(\"to_excel.xlsx\",sheet_name=\"Sheet1\")\n",
    "df2 = pd.read_excel(\"to_excel.xlsx\",sheet_name=\"Sheet2\")\n",
    "df3 = pd.read_excel(\"to_excel.xlsx\",sheet_name=\"Sheet3\")\n",
    "df4 = pd.read_excel(\"to_excel.xlsx\",sheet_name=\"Sheet4\")\n",
    "\n",
    "df1.columns = [Helper.snake_case(i) for i in df1.columns]\n",
    "df2.columns = [Helper.snake_case(i) for i in df2.columns]\n",
    "df3.columns = [Helper.snake_case(i) for i in df3.columns]\n",
    "df4.columns = [Helper.snake_case(i) for i in df4.columns]\n",
    "\n",
    "columns_df1 = [\"company_prev\", \"company_prev.1\", \"company_prev.2\", \"company_prev.3\"]\n",
    "columns_df2 = [\"company_prev\", \"company_prev.1\", \"company_prev.2\"]\n",
    "columns_df3 = [\"rico_auto_[1]_70.58\",\"tanla_[1]\",\"axisamc_axsensex\",\"motilalamc_momidmtm\"]\n",
    "final_list = (\n",
    "    df1[columns_df1].values.flatten().tolist() +\n",
    "    df2[columns_df2].values.flatten().tolist() +\n",
    "    df3[columns_df3].values.flatten().tolist()\n",
    ")\n",
    "\n",
    "len(final_list)\n",
    "company_all = [(re.sub(r\"\\[\\d\\]|\\d+\\.\\d+\",\"\",str(i)).strip(),\n",
    "                \" \".join(re.findall(r\"\\d+\\.\\d+\",str(i),re.IGNORECASE))) \n",
    "               for i in final_list]\n",
    "df = pd.DataFrame(company_all,columns=[\"company\",\"prev\"])\n",
    "df.sort_values(by=\"prev\",ascending=False).to_excel(\"sorted_val.xlsx\")\n"
   ]
  },
  {
   "cell_type": "code",
   "execution_count": null,
   "id": "5f30468e",
   "metadata": {},
   "outputs": [],
   "source": [
    "import requests\n",
    "\n",
    "response = requests.get(\"https://books.toscrape.com/\", verify=False)\n",
    "print(response.headers.get(\"Last-Modified\"))\n",
    "print(response.headers.get(\"ETag\"))"
   ]
  },
  {
   "cell_type": "code",
   "execution_count": null,
   "id": "af634cdf",
   "metadata": {},
   "outputs": [],
   "source": [
    "import tabula\n",
    "import pandas as pd\n",
    "\n",
    "\n",
    "def pdf_to_excel(pdf_file_path, excel_file_path):\n",
    "    # Read PDF file\n",
    "    tables = tabula.read_pdf(pdf_file_path, pages='all')\n",
    "\n",
    "    # Write each table to a separate sheet in the Excel file\n",
    "    with pd.ExcelWriter(excel_file_path) as writer:\n",
    "        for i, table in enumerate(tables):\n",
    "            table.to_excel(writer, sheet_name=f'Sheet{i+1}')\n",
    "\n",
    "\n",
    "pdf_to_excel('to_excel.pdf', 'to_excel.xlsx')"
   ]
  }
 ],
 "metadata": {
  "kernelspec": {
   "display_name": "Python 3",
   "language": "python",
   "name": "python3"
  },
  "language_info": {
   "codemirror_mode": {
    "name": "ipython",
    "version": 3
   },
   "file_extension": ".py",
   "mimetype": "text/x-python",
   "name": "python",
   "nbconvert_exporter": "python",
   "pygments_lexer": "ipython3",
   "version": "3.13.5"
  }
 },
 "nbformat": 4,
 "nbformat_minor": 5
}
